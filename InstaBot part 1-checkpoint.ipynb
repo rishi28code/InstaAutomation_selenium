{
 "cells": [
  {
   "cell_type": "code",
   "execution_count": 1,
   "id": "4e22952c",
   "metadata": {},
   "outputs": [],
   "source": [
    "from selenium import webdriver\n",
    "from selenium.webdriver.common.keys import Keys\n",
    "import time\n",
    "from selenium.common.exceptions import NoSuchElementException\n",
    "from selenium.common.exceptions import StaleElementReferenceException\n",
    "from selenium.common.exceptions import TimeoutException\n",
    "from selenium.webdriver.support.ui import WebDriverWait\n",
    "from selenium.webdriver.support import expected_conditions as EC\n",
    "from selenium.webdriver.common.by import By\n",
    "from selenium.webdriver.support.select import Select\n",
    "from bs4 import BeautifulSoup\n",
    "driver = webdriver.Chrome()"
   ]
  },
  {
   "cell_type": "code",
   "execution_count": 2,
   "id": "a603c56a",
   "metadata": {},
   "outputs": [],
   "source": [
    "driver.get('https://www.instagram.com/')\n",
    "driver.maximize_window()\n"
   ]
  },
  {
   "cell_type": "code",
   "execution_count": 3,
   "id": "656213e5",
   "metadata": {},
   "outputs": [],
   "source": [
    "# 1 Login to your Instagram Handle and Submit with sample username and password\n",
    "WebDriverWait(driver, 10).until(EC.presence_of_element_located((By.TAG_NAME, 'body'))).send_keys(Keys.F5)\n",
    "\n",
    "\n",
    "username_box = driver.find_element(By.NAME, 'username')\n",
    "username_box.send_keys('SuperHero_Assylum')\n",
    "\n",
    "\n",
    "password_box = driver.find_element(By.NAME, 'password')\n",
    "password_box.send_keys('Rishi@28')\n",
    "\n",
    "\n",
    "\n",
    "log_in = WebDriverWait(driver,2).until(EC.element_to_be_clickable((By.CSS_SELECTOR,\"button[type='submit']\"))).click()"
   ]
  },
  {
   "cell_type": "code",
   "execution_count": 4,
   "id": "32cfead5",
   "metadata": {},
   "outputs": [],
   "source": [
    "# Supressing \"Turn On Notifications\" Window:\n",
    "not_now=WebDriverWait(driver,10).until(EC.element_to_be_clickable((By.XPATH,\"//button[contains(text(),'Not Now')]\"))).click()"
   ]
  },
  {
   "cell_type": "code",
   "execution_count": 28,
   "id": "b36b3df3",
   "metadata": {},
   "outputs": [],
   "source": [
    "# 2 Type for “food” in search bar and print all the names of the Instagram Handles that are displayed in list after typing “food”\n",
    "\n",
    "search_btn = WebDriverWait(driver, 10).until(EC.presence_of_element_located((By.XPATH, \"//div[contains(@class,'x1xgvd2v')]/div[2]/div[2]\"))).click()\n",
    "\n"
   ]
  },
  {
   "cell_type": "code",
   "execution_count": 29,
   "id": "42b6e9c4",
   "metadata": {},
   "outputs": [],
   "source": [
    "search_box=WebDriverWait(driver, 10).until(EC.presence_of_element_located((By.XPATH, \"//input[@placeholder='Search']\")))\n",
    "\n",
    "search_box.send_keys('food')\n",
    "search_box.send_keys(Keys.ENTER)"
   ]
  },
  {
   "cell_type": "code",
   "execution_count": 30,
   "id": "196137ad",
   "metadata": {},
   "outputs": [
    {
     "name": "stdout",
     "output_type": "stream",
     "text": [
      "Foodies In Hyderabad\n",
      "Karan Dua • 1.1M followers\n",
      "#food\n",
      "512,318,175 posts\n",
      "Food Badger\n",
      "#foodporn\n",
      "303,090,582 posts\n",
      "VIZAG FOOD STORIES 🍕🍖\n",
      "Vijayawada food bloggers | Mehboob\n",
      "Vismai Food\n",
      "Food\n",
      "Vijayawada Food blogger 💀\n",
      "5 Monkeys Food 🔥\n",
      "Ratnakar | Guntur & Hyderabad food blogger 🌶️\n",
      "#foodie\n",
      "244,856,477 posts\n",
      "Diya | Guntur Food Blogger\n",
      "Rj Kiran 🇮🇳\n",
      "Food hunter1\n",
      "Hyderabad Food Blogger /Geethasri🍟\n",
      "Indian Football • 3.3M followers\n",
      "BeZawaDa FO🥘DIE GIRL\n",
      "Vijayawada Food vlogger 😋\n",
      "Anamul Haque\n",
      "Bala | Hyderabadi Food Travel (HFT)\n",
      "#foodphotography\n",
      "111,665,255 posts\n",
      "Food 46\n",
      "Bezawada Food Stories🧿\n",
      "Foodies❤️🧿\n",
      "Guntur Food | Travel vlogs Telugu\n",
      "Vijayawada Food Blogger\n",
      "FOODMAN\n",
      "mana telugu food reviews\n",
      "Food explorer🍲🧿\n",
      "Vijayawada Food\n",
      "Soma Sekhar\n",
      "vizagfoodandlifestyle\n",
      "Ameer syed\n",
      "Food Chicha's\n",
      "Singapore Foodie • 332K followers\n",
      "Food on Farm\n",
      "Germany 🇩🇪 Deutschland Travel | Hotels | Food • 468K followers\n",
      "Wirally Food • 284K followers\n",
      "Vijayawada | Hyderabad Food Bloggers🧿\n",
      "#foodblogger\n",
      "85,300,926 posts\n",
      "Bhimavaram Food Blogger | Thindi Muchatlu\n",
      "FOOD@VIZAG\n",
      "RAJASEKHAR IMMANENI\n",
      "Food Wala\n",
      "Hyderabad Food Blogger\n",
      "#foodstylist\n",
      "5,123,122 posts\n",
      "Manoj Bandi\n",
      "VIZAG FOOD BLOGGER\n",
      "Vijayawada & Guntur F🥘🥗d Bl🍪gger | Sivakasi MEKALA\n",
      "Foodholic_vizag | Food Blogger | Vizag\n",
      "#foodstagram\n",
      "121,093,289 posts\n",
      "Sahithi food vlogs 🍽🍗🍔🍕\n",
      "Delfi & Sid || Vizag Bloggers in Denmark for a month!\n",
      "#foodpics\n",
      "51,230,020 posts\n",
      "sodelhi\n",
      "sodelhi\n",
      "Srikanth Yepalagunta\n",
      "𝑺ᴜᴍᴀꋊᴛʜ..\n",
      "Dileep nishad Dileep\n",
      "Ankul Kumar\n",
      "Delhisehaiyaar 🤝❤️\n",
      "Nagesh\n",
      "Daily_memes88\n",
      "Vamsi Budati\n",
      "sodelhi\n",
      "Follows you\n",
      "Follows you\n",
      "Follows you\n",
      "Follows you\n",
      "Follows you\n"
     ]
    }
   ],
   "source": [
    "for i in driver.find_elements(By.XPATH,\"//span[contains(@class,'x1lliihq x193iq5w x6ikm8r x10wlt62 xlyipyv xuxw1ft')]\"):\n",
    "    print(i.text)\n"
   ]
  },
  {
   "cell_type": "code",
   "execution_count": 31,
   "id": "809871bd",
   "metadata": {},
   "outputs": [],
   "source": [
    "# task 3 Searching and Opening a profile using \n",
    "search_box.clear()\n",
    "search_box.send_keys('So Delhi')\n",
    "search_box.send_keys(Keys.ENTER)"
   ]
  },
  {
   "cell_type": "code",
   "execution_count": 32,
   "id": "b7d7d571",
   "metadata": {},
   "outputs": [],
   "source": [
    "so_delhi=WebDriverWait(driver, 10).until(EC.presence_of_element_located((By.XPATH, \"//a[contains(@class,'x1i10hfl x1qjc9v5 xjbqb8w xjqpnuy xa49m3k xqeqjp1 x2hbi6w x13fuv20 xu3j5b3 x1q0q8m5 x26u7qi x972fbf xcfux6l x1qhh985 xm0m39n x9f619 x1ypdohk xdl72j9 x2lah0s xe8uvvx xdj266r x11i5rnm xat24cr x1mh8g0r x2lwn1j xeuugli xexx8yu x4uap5 x18d9i69 xkhd6sd x1n2onr6 x16tdsg8 x1hl2dhg xggy1nq x1ja2u2z x1t137rt x1q0g3np x87ps6o x1lku1pv x1a2a7pz x1dm5mii x16mil14 xiojian x1yutycm x1lliihq x193iq5w xh8yej3')]\"))).click()\n"
   ]
  },
  {
   "cell_type": "code",
   "execution_count": 33,
   "id": "c1fb7e2c",
   "metadata": {},
   "outputs": [
    {
     "name": "stdout",
     "output_type": "stream",
     "text": [
      "You have already following the page\n"
     ]
    }
   ],
   "source": [
    "# following so Delhi\n",
    "\n",
    "if driver.find_element(By.XPATH,\"//div[contains(@class,'_aacl _aaco _aacw _aad6 _aade')]\").text=='Following':\n",
    "    print('You have already following the page')\n",
    "\n",
    "else:\n",
    "    driver.find_element(By.TAG_NAME,\"button\").click()"
   ]
  },
  {
   "cell_type": "code",
   "execution_count": 39,
   "id": "9f548694",
   "metadata": {},
   "outputs": [],
   "source": [
    "# unfollowing so Delhi\n",
    "\n",
    "if driver.find_element(By.XPATH,\"//div[contains(@class,'_aacl _aaco _aacw _aad6 _aade')]\").text=='Follow':\n",
    "    print('You have already unfollowing the page')\n",
    "\n",
    "else:\n",
    "    driver.find_element(By.XPATH,\"//div[contains(@class,'x9f619 xjbqb8w x78zum5 x168nmei x13lgxp2 x5pf9jr xo71vjh xsgj6o6 x1n2onr6 x1plvlek xryxfnj x1c4vz4f x2lah0s xdt5ytf xqjyukv x1qjc9v5 x1oa3qoh xl56j7k')]\").click()\n",
    "    \n",
    "    options = driver.find_elements(By.XPATH, \"//div[contains(@class,'x1i10hfl x1qjc9v5 xjbqb8w xjqpnuy xa49m3k xqeqjp1 x2hbi6w x13fuv20 xu3j5b3 x1q0q8m5 x26u7qi x972fbf xcfux6l x1qhh985 xm0m39n x9f619 x1ypdohk xdl72j9 x2lah0s xe8uvvx xdj266r x11i5rnm xat24cr x1mh8g0r x2lwn1j xeuugli xexx8yu x4uap5 x18d9i69 xkhd6sd x1n2onr6 x16tdsg8 x1hl2dhg xggy1nq x1ja2u2z x1t137rt x1q0g3np x87ps6o x1lku1pv x1a2a7pz x1dm5mii x16mil14 xiojian x1yutycm x1lliihq x193iq5w xh8yej3')]\")[4].click()\n",
    "    #options = [add_to_close_frnd , add_to_favorite , mute , restrict , unfollow]\n",
    "    \n",
    "    \n",
    "\n"
   ]
  },
  {
   "cell_type": "code",
   "execution_count": 19,
   "id": "354bb410",
   "metadata": {},
   "outputs": [],
   "source": [
    "# so delhi page to home\n",
    "driver.back()"
   ]
  },
  {
   "cell_type": "code",
   "execution_count": 20,
   "id": "62cc9327",
   "metadata": {},
   "outputs": [],
   "source": [
    "# task 5 Like/Unlike posts\n",
    "search = WebDriverWait(driver, 10).until(EC.presence_of_element_located((By.XPATH, \"//div[contains(@class,'x1xgvd2v')]/div[2]/div[2]\"))).click()\n",
    "search_box=WebDriverWait(driver, 10).until(EC.presence_of_element_located((By.XPATH, \"//input[@placeholder='Search']\")))\n",
    "\n",
    "search_box.send_keys('dilsefoodie')\n",
    "search_box.send_keys(Keys.ENTER)\n"
   ]
  },
  {
   "cell_type": "code",
   "execution_count": 21,
   "id": "189e30c8",
   "metadata": {},
   "outputs": [],
   "source": [
    "dilse_foodie_btn=WebDriverWait(driver, 3).until(EC.presence_of_element_located((By.XPATH, \"//a[contains(@class,'x1i10hfl x1qjc9v5 xjbqb8w xjqpnuy xa49m3k xqeqjp1 x2hbi6w x13fuv20 xu3j5b3 x1q0q8m5 x26u7qi x972fbf xcfux6l x1qhh985 xm0m39n x9f619 x1ypdohk xdl72j9 x2lah0s xe8uvvx xdj266r x11i5rnm xat24cr x1mh8g0r x2lwn1j xeuugli xexx8yu x4uap5 x18d9i69 xkhd6sd x1n2onr6 x16tdsg8 x1hl2dhg xggy1nq x1ja2u2z x1t137rt x1q0g3np x87ps6o x1lku1pv x1a2a7pz x1dm5mii x16mil14 xiojian x1yutycm x1lliihq x193iq5w xh8yej3')]\"))).click()"
   ]
  },
  {
   "cell_type": "code",
   "execution_count": 8,
   "id": "c81131a5",
   "metadata": {},
   "outputs": [],
   "source": [
    "# Scrolling Down\n",
    "driver.execute_script('window.scrollBy(0, 3000);')\n",
    "time.sleep(2.5)\n",
    "driver.execute_script('window.scrollBy(0, 3000);')\n",
    "time.sleep(2.5)\n",
    "# Scroll up\n",
    "driver.execute_script('window.scrollBy(0, -3000);')\n",
    "time.sleep(2.5)\n",
    "driver.execute_script('window.scrollBy(0, -2800);')\n",
    "time.sleep(2.5)"
   ]
  },
  {
   "cell_type": "code",
   "execution_count": 9,
   "id": "850b3c77",
   "metadata": {},
   "outputs": [],
   "source": [
    "# Liking posts of dilsefoodie\n",
    "from selenium.common.exceptions import TimeoutException, StaleElementReferenceException, ElementClickInterceptedException\n",
    "\n",
    "list=driver.find_elements(By.XPATH,\"//div[contains(@class,'_aagu')]\")\n",
    "\n",
    "#len(list)-30\n",
    "for i in list:\n",
    "    try:\n",
    "        time.sleep(1.5)\n",
    "        i.click()\n",
    "        time.sleep(1.5)\n",
    "        like_btn=driver.find_element(By.XPATH,\"//span[contains(@class,'_aamw')]/div[1]\").click()\n",
    "        time.sleep(1)\n",
    "        driver.back()\n",
    "        time.sleep(1.5)\n",
    "    except (TimeoutException, StaleElementReferenceException, ElementClickInterceptedException):\n",
    "        \n",
    "        #\n",
    "        pass\n",
    "    "
   ]
  },
  {
   "cell_type": "code",
   "execution_count": null,
   "id": "c12cac9c",
   "metadata": {},
   "outputs": [],
   "source": [
    "# unliking the posts which were liked earlier\n",
    "from selenium.common.exceptions import TimeoutException, StaleElementReferenceException, ElementClickInterceptedException\n",
    "\n",
    "list=driver.find_elements(By.XPATH,\"//div[contains(@class,'_aagu')]\")\n",
    "\n",
    "#len(list)-30\n",
    "for i in list:\n",
    "    try:\n",
    "        time.sleep(1.5)\n",
    "        i.click()\n",
    "        time.sleep(1.5)\n",
    "        like_btn=driver.find_element(By.XPATH,\"//span[contains(@class,'_aamw')]/div[1]\").click()\n",
    "        time.sleep(1)\n",
    "        driver.back()\n",
    "        time.sleep(1.5)\n",
    "    except (TimeoutException, StaleElementReferenceException, ElementClickInterceptedException):\n",
    "        # Handle exceptions as needed\n",
    "        \n",
    "        pass\n",
    "    "
   ]
  },
  {
   "cell_type": "code",
   "execution_count": 22,
   "id": "c727759d",
   "metadata": {},
   "outputs": [],
   "source": [
    "#6 Extract list of followers\n",
    "driver.back() # coming back to home\n"
   ]
  },
  {
   "cell_type": "code",
   "execution_count": 11,
   "id": "0d015621",
   "metadata": {},
   "outputs": [],
   "source": [
    "search = WebDriverWait(driver, 10).until(EC.presence_of_element_located((By.XPATH, \"//div[contains(@class,'x1xgvd2v')]/div[2]/div[2]\"))).click()\n",
    "search_box=WebDriverWait(driver, 10).until(EC.presence_of_element_located((By.XPATH, \"//input[@placeholder='Search']\")))\n",
    "\n",
    "search_box.send_keys('foodtalkindia')\n",
    "search_box.send_keys(Keys.ENTER)"
   ]
  },
  {
   "cell_type": "code",
   "execution_count": 12,
   "id": "fb8726c7",
   "metadata": {},
   "outputs": [],
   "source": [
    "food_talk_india_btn = WebDriverWait(driver, 3).until(EC.presence_of_element_located((By.XPATH, \"//a[contains(@class,'x1i10hfl x1qjc9v5 xjbqb8w xjqpnuy xa49m3k xqeqjp1 x2hbi6w x13fuv20 xu3j5b3 x1q0q8m5 x26u7qi x972fbf xcfux6l x1qhh985 xm0m39n x9f619 x1ypdohk xdl72j9 x2lah0s xe8uvvx xdj266r x11i5rnm xat24cr x1mh8g0r x2lwn1j xeuugli xexx8yu x4uap5 x18d9i69 xkhd6sd x1n2onr6 x16tdsg8 x1hl2dhg xggy1nq x1ja2u2z x1t137rt x1q0g3np x87ps6o x1lku1pv x1a2a7pz x1dm5mii x16mil14 xiojian x1yutycm x1lliihq x193iq5w xh8yej3')]\"))).click()"
   ]
  },
  {
   "cell_type": "code",
   "execution_count": 22,
   "id": "28951f80",
   "metadata": {},
   "outputs": [],
   "source": [
    "followers_btn=WebDriverWait(driver, 3).until(EC.presence_of_element_located((By.XPATH, \"//a[contains(@class,'x1i10hfl xjbqb8w x6umtig x1b1mbwd xaqea5y xav7gou x9f619 x1ypdohk xt0psk2 xe8uvvx xdj266r x11i5rnm xat24cr x1mh8g0r xexx8yu x4uap5 x18d9i69 xkhd6sd x16tdsg8 x1hl2dhg xggy1nq x1a2a7pz _alvs _a6hd')]\"))).click()"
   ]
  },
  {
   "cell_type": "code",
   "execution_count": 47,
   "id": "4c8a5081",
   "metadata": {},
   "outputs": [
    {
     "name": "stdout",
     "output_type": "stream",
     "text": [
      "@anthem.in\n",
      "allfoody8\n",
      "talefairy1\n",
      "aayushrai3\n",
      "aditi_mohandas\n",
      "triggerati\n",
      "ani470\n",
      "sun_mystical\n",
      "arra_zoro\n",
      "aree__yrr\n",
      "arundhati_mishra\n",
      "bharatmehta14\n",
      "bhooklagi_hai\n",
      "david5930s\n",
      "dimpledynamicvlogs\n",
      "education_of_delhi\n",
      "foodtech_network\n",
      "gugun_india.2023\n",
      "mesterpieses__\n",
      "indranikona\n",
      "_indusukumar_\n",
      "jagjeet_dhanjal1886\n",
      "jeannerouxhet\n",
      "jellllyfish2624\n",
      "manoj.atrey\n",
      "ahlawatmonica\n",
      "chitlangianeha\n",
      "permanent_foodmates.noida\n",
      "povinate\n",
      "pritha_dey14\n",
      "_the.lazyone\n",
      "rahulyadav2035\n",
      "rajatyadavx\n",
      "rakibalam668899\n",
      "rohit.20188\n",
      "saketgup\n",
      "saksham1994\n",
      "senosandy133\n",
      "shaheensiddiqui1708\n",
      "shivayalive\n",
      "shraya_singh666\n",
      "pisean27\n",
      "josan941\n",
      "sreeyaghosh_02\n",
      "rainn_thunderstorm\n",
      "trapti02.singh\n",
      "pm_veerpal\n",
      "ericradj\n",
      "abhishaa11\n",
      "nishant_chohla\n",
      "hell_1fire\n"
     ]
    }
   ],
   "source": [
    "#Extract the usernames of the followers of ‘foodtalkindia’\n",
    "\n",
    "while True:\n",
    "    try:\n",
    "        food_talk_india_followers = []\n",
    "        count = 0\n",
    "        while True:\n",
    "            elements = driver.find_elements(By.XPATH, '//a[contains(@class, \"notranslate\")]')\n",
    "            if count >= len(elements):\n",
    "                break  # No more elements to collect\n",
    "            if len(elements) < 500:\n",
    "                WebDriverWait(driver, 10).until(EC.presence_of_element_located((By.XPATH, '//span[contains(@class, \"_aacl _aaco _aacw _aacx _aad7 _aade\")]')))\n",
    "                driver.execute_script('arguments[0].scrollIntoView(0, 100);', driver.find_element(By.XPATH, '//span[contains(@class, \"_aacl _aaco _aacw _aacx _aad7 _aade\")]'))\n",
    "                time.sleep(0.8)\n",
    "            i = elements[count]\n",
    "            food_talk_india_followers.append(i.text)\n",
    "            if len(food_talk_india_followers) >= 500:\n",
    "                break\n",
    "            count += 1\n",
    "        break\n",
    "    except StaleElementReferenceException:\n",
    "        continue\n",
    "for i in food_talk_india_followers:\n",
    "    print(i)\n",
    "# No one can't access all the followers except the user"
   ]
  },
  {
   "cell_type": "code",
   "execution_count": 50,
   "id": "316fd861",
   "metadata": {},
   "outputs": [],
   "source": [
    "#Extract the usernames of the followers of ‘sodelhi’\n",
    "driver.back() # coming back to home"
   ]
  },
  {
   "cell_type": "code",
   "execution_count": 52,
   "id": "86dcb0f9",
   "metadata": {},
   "outputs": [],
   "source": [
    "search = WebDriverWait(driver, 10).until(EC.presence_of_element_located((By.XPATH, \"//div[contains(@class,'x1xgvd2v')]/div[2]/div[2]\"))).click()\n",
    "search_box=WebDriverWait(driver, 10).until(EC.presence_of_element_located((By.XPATH, \"//input[@placeholder='Search']\")))\n",
    "\n",
    "search_box.send_keys('sodelhi')\n",
    "search_box.send_keys(Keys.ENTER)"
   ]
  },
  {
   "cell_type": "code",
   "execution_count": 53,
   "id": "c699f949",
   "metadata": {},
   "outputs": [],
   "source": [
    "sodelhi_btn = WebDriverWait(driver, 3).until(EC.presence_of_element_located((By.XPATH, \"//a[contains(@class,'x1i10hfl x1qjc9v5 xjbqb8w xjqpnuy xa49m3k xqeqjp1 x2hbi6w x13fuv20 xu3j5b3 x1q0q8m5 x26u7qi x972fbf xcfux6l x1qhh985 xm0m39n x9f619 x1ypdohk xdl72j9 x2lah0s xe8uvvx xdj266r x11i5rnm xat24cr x1mh8g0r x2lwn1j xeuugli xexx8yu x4uap5 x18d9i69 xkhd6sd x1n2onr6 x16tdsg8 x1hl2dhg xggy1nq x1ja2u2z x1t137rt x1q0g3np x87ps6o x1lku1pv x1a2a7pz x1dm5mii x16mil14 xiojian x1yutycm x1lliihq x193iq5w xh8yej3')]\"))).click()\n"
   ]
  },
  {
   "cell_type": "code",
   "execution_count": 54,
   "id": "d06bb35d",
   "metadata": {},
   "outputs": [],
   "source": [
    "followers_btn=WebDriverWait(driver, 3).until(EC.presence_of_element_located((By.XPATH, \"//a[contains(@class,'x1i10hfl xjbqb8w x6umtig x1b1mbwd xaqea5y xav7gou x9f619 x1ypdohk xt0psk2 xe8uvvx xdj266r x11i5rnm xat24cr x1mh8g0r xexx8yu x4uap5 x18d9i69 xkhd6sd x16tdsg8 x1hl2dhg xggy1nq x1a2a7pz _alvs _a6hd')]\"))).click()"
   ]
  },
  {
   "cell_type": "code",
   "execution_count": 57,
   "id": "e63e9bd4",
   "metadata": {},
   "outputs": [
    {
     "name": "stdout",
     "output_type": "stream",
     "text": [
      "rashi.ahuja8\n",
      "sukanya.tegethoff\n",
      "digicool.in\n",
      "tashicakecake\n",
      "har_shjain\n",
      "shivam.jain\n",
      "kajaltanwar_007\n",
      "oldschoolselot\n",
      "notasocialbeing\n",
      "shubhra_\n",
      "ishu.munjal\n",
      "bhaskaredge_\n"
     ]
    }
   ],
   "source": [
    "while True:\n",
    "    try:\n",
    "        sodelhi_followers = []\n",
    "        count = 0\n",
    "        while True:\n",
    "            elements = driver.find_elements(By.XPATH, '//a[contains(@class, \"notranslate\")]')\n",
    "            if count >= len(elements):\n",
    "                break  # No more elements to collect\n",
    "            if len(elements) < 500:\n",
    "                WebDriverWait(driver, 10).until(EC.presence_of_element_located((By.XPATH, '//span[contains(@class, \"_aacl _aaco _aacw _aacx _aad7 _aade\")]')))\n",
    "                driver.execute_script('arguments[0].scrollIntoView(0, 100);', driver.find_element(By.XPATH, '//span[contains(@class, \"_aacl _aaco _aacw _aacx _aad7 _aade\")]'))\n",
    "                time.sleep(1)\n",
    "            i = elements[count]\n",
    "            sodelhi_followers.append(i.text)\n",
    "            if len(sodelhi_followers) >= 500:\n",
    "                break\n",
    "            count += 1\n",
    "        break\n",
    "    except StaleElementReferenceException:\n",
    "        continue\n",
    "for i in sodelhi_followers:\n",
    "    print(i)\n",
    "# No one can't access all the followers except the user"
   ]
  },
  {
   "cell_type": "code",
   "execution_count": 70,
   "id": "c25514fd",
   "metadata": {},
   "outputs": [],
   "source": [
    "#7 checkingg story of coding ninjas\n",
    "home_btn=WebDriverWait(driver, 3).until(EC.presence_of_element_located((By.XPATH, \"//a[contains(@class,'x1i10hfl xjbqb8w x6umtig x1b1mbwd xaqea5y xav7gou x9f619 x1ypdohk xt0psk2 xe8uvvx xdj266r x11i5rnm xat24cr x1mh8g0r xexx8yu x4uap5 x18d9i69 xkhd6sd x16tdsg8 x1hl2dhg xggy1nq x1a2a7pz _a6hd')]\"))).click()"
   ]
  },
  {
   "cell_type": "code",
   "execution_count": 23,
   "id": "b31988bf",
   "metadata": {},
   "outputs": [],
   "source": [
    "search = WebDriverWait(driver, 10).until(EC.presence_of_element_located((By.XPATH, \"//div[contains(@class,'x1xgvd2v')]/div[2]/div[2]\"))).click()\n",
    "search_box=WebDriverWait(driver, 10).until(EC.presence_of_element_located((By.XPATH, \"//input[@placeholder='Search']\")))\n",
    "\n",
    "search_box.send_keys('coding.ninjas')\n",
    "search_box.send_keys(Keys.ENTER)"
   ]
  },
  {
   "cell_type": "code",
   "execution_count": 24,
   "id": "bbd9fe19",
   "metadata": {},
   "outputs": [],
   "source": [
    "coding_ninjas_btn=WebDriverWait(driver, 3).until(EC.presence_of_element_located((By.XPATH, \"//a[contains(@class,'x1i10hfl x1qjc9v5 xjbqb8w xjqpnuy xa49m3k xqeqjp1 x2hbi6w x13fuv20 xu3j5b3 x1q0q8m5 x26u7qi x972fbf xcfux6l x1qhh985 xm0m39n x9f619 x1ypdohk xdl72j9 x2lah0s xe8uvvx xdj266r x11i5rnm xat24cr x1mh8g0r x2lwn1j xeuugli xexx8yu x4uap5 x18d9i69 xkhd6sd x1n2onr6 x16tdsg8 x1hl2dhg xggy1nq x1ja2u2z x1t137rt x1q0g3np x87ps6o x1lku1pv x1a2a7pz x1dm5mii x16mil14 xiojian x1yutycm x1lliihq x193iq5w xh8yej3')]\"))).click()"
   ]
  },
  {
   "cell_type": "code",
   "execution_count": 25,
   "id": "7899593c",
   "metadata": {},
   "outputs": [
    {
     "name": "stdout",
     "output_type": "stream",
     "text": [
      "You have not seen the story yet! The story will be shown to you now. check out the driver window\n"
     ]
    }
   ],
   "source": [
    "try:\n",
    "    if driver.find_element(By.XPATH,'//div[contains(@class, \"_aarf _aarg\")]/canvas').get_attribute('height')=='263':\n",
    "        print('You have not seen the story yet! The story will be shown to you now. check out the driver window')\n",
    "        driver.find_element(By.XPATH,'//div[contains(@class, \"_aarf _aarg\")]').click()\n",
    "    elif driver.find_element(By.XPATH,'//div[contains(@class, \"_aarf _aarg\")]/canvas').get_attribute('height')=='260':\n",
    "        print('You have already seen the story!')\n",
    "except NoSuchElementException:\n",
    "    print('The user has no story!')"
   ]
  },
  {
   "cell_type": "code",
   "execution_count": null,
   "id": "a9446ef3",
   "metadata": {},
   "outputs": [],
   "source": []
  }
 ],
 "metadata": {
  "kernelspec": {
   "display_name": "Python 3 (ipykernel)",
   "language": "python",
   "name": "python3"
  },
  "language_info": {
   "codemirror_mode": {
    "name": "ipython",
    "version": 3
   },
   "file_extension": ".py",
   "mimetype": "text/x-python",
   "name": "python",
   "nbconvert_exporter": "python",
   "pygments_lexer": "ipython3",
   "version": "3.10.9"
  }
 },
 "nbformat": 4,
 "nbformat_minor": 5
}
